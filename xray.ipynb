{
  "nbformat": 4,
  "nbformat_minor": 0,
  "metadata": {
    "colab": {
      "provenance": [],
      "machine_shape": "hm",
      "gpuType": "V28",
      "include_colab_link": true
    },
    "kernelspec": {
      "name": "python3",
      "display_name": "Python 3"
    },
    "language_info": {
      "name": "python"
    },
    "accelerator": "TPU"
  },
  "cells": [
    {
      "cell_type": "markdown",
      "metadata": {
        "id": "view-in-github",
        "colab_type": "text"
      },
      "source": [
        "<a href=\"https://colab.research.google.com/github/hakuban-create/Chest_xray_Project_4/blob/main/xray.ipynb\" target=\"_parent\"><img src=\"https://colab.research.google.com/assets/colab-badge.svg\" alt=\"Open In Colab\"/></a>"
      ]
    },
    {
      "cell_type": "code",
      "source": [
        "# Dependencies to Visualize the model\n",
        "%matplotlib inline\n",
        "from IPython.display import Image, SVG\n",
        "import matplotlib.pyplot as plt\n",
        "import numpy as np\n",
        "np.random.seed(0)\n"
      ],
      "metadata": {
        "id": "bi0TSj44rEhz"
      },
      "execution_count": 1,
      "outputs": []
    },
    {
      "cell_type": "code",
      "source": [
        "# Filepaths, numpy, and Tensorflow\n",
        "import os\n",
        "import cv2\n",
        "from google.colab import drive\n",
        "import numpy as np\n",
        "import tensorflow as tf"
      ],
      "metadata": {
        "id": "HR-h7t-9rMQ9"
      },
      "execution_count": 2,
      "outputs": []
    },
    {
      "cell_type": "code",
      "source": [
        "# Sklearn scaling\n",
        "from sklearn.preprocessing import MinMaxScaler"
      ],
      "metadata": {
        "id": "xbtOP5MKrO5N"
      },
      "execution_count": 3,
      "outputs": []
    },
    {
      "cell_type": "code",
      "source": [
        "# Keras\n",
        "from tensorflow import keras\n",
        "from tensorflow.keras.models import Sequential\n",
        "from tensorflow.keras.utils import to_categorical\n",
        "from tensorflow.keras.layers import Dense\n",
        "from io import BytesIO\n",
        "from tensorflow.keras.preprocessing import image"
      ],
      "metadata": {
        "id": "W5Wt06D4rk4c"
      },
      "execution_count": 4,
      "outputs": []
    },
    {
      "cell_type": "code",
      "execution_count": 5,
      "metadata": {
        "colab": {
          "base_uri": "https://localhost:8080/"
        },
        "id": "wFbkX2dWdAJX",
        "outputId": "54b42aba-9ef4-432b-d668-00f58e8cf5a8"
      },
      "outputs": [
        {
          "output_type": "stream",
          "name": "stdout",
          "text": [
            "Drive already mounted at /content/drive; to attempt to forcibly remount, call drive.mount(\"/content/drive\", force_remount=True).\n"
          ]
        }
      ],
      "source": [
        "drive.mount('/content/drive')\n",
        "\n",
        "data_directory_path = os.path.join(\"/content/drive/MyDrive/chest_xray/chest_xray\")\n",
        "train_directory_path = os.path.join(data_directory_path, \"train\")\n",
        "train_normal_path = os.path.join(train_directory_path, \"NORMAL\")\n",
        "train_pneumonia_path = os.path.join(train_directory_path, \"PNEUMONIA\")\n",
        "\n",
        "test_directory_path = os.path.join(data_directory_path, \"test\")\n",
        "test_normal_path = os.path.join(test_directory_path, \"NORMAL\")\n",
        "test_pneumonia_path = os.path.join(test_directory_path, \"PNEUMONIA\")\n"
      ]
    },
    {
      "cell_type": "markdown",
      "source": [
        "----- LOADING DATASETS -----"
      ],
      "metadata": {
        "id": "ig37VCJ_DILU"
      }
    },
    {
      "cell_type": "code",
      "source": [
        "print(len(os.listdir(train_normal_path)))\n",
        "print(len(os.listdir(train_pneumonia_path)))\n",
        "print(len(os.listdir(test_normal_path)))\n",
        "print(len(os.listdir(test_pneumonia_path)))\n"
      ],
      "metadata": {
        "colab": {
          "base_uri": "https://localhost:8080/"
        },
        "id": "6c7ouDKF1ip9",
        "outputId": "9da2e47d-2d8e-43c7-b002-439687f93fd2"
      },
      "execution_count": 6,
      "outputs": [
        {
          "output_type": "stream",
          "name": "stdout",
          "text": [
            "1341\n",
            "3925\n",
            "234\n",
            "390\n"
          ]
        }
      ]
    },
    {
      "cell_type": "code",
      "source": [
        "X_train = []\n",
        "y_train = []\n",
        "\n",
        "X_test = []\n",
        "y_test = []"
      ],
      "metadata": {
        "id": "9yagWjxps5Cn"
      },
      "execution_count": 7,
      "outputs": []
    },
    {
      "cell_type": "code",
      "source": [
        "for image_file in os.listdir(train_normal_path):\n",
        "  image_path = os.path.join(train_normal_path, image_file)\n",
        "  image = cv2.imread(image_path)\n",
        "  image = cv2.resize(image, (256, 256))\n",
        "  X_train.append(image)\n",
        "  y_train.append(0)"
      ],
      "metadata": {
        "id": "h_363dhVw-km"
      },
      "execution_count": 8,
      "outputs": []
    },
    {
      "cell_type": "code",
      "source": [
        "for image_file in os.listdir(train_pneumonia_path):\n",
        "  image_path = os.path.join(train_pneumonia_path, image_file)\n",
        "  image = cv2.imread(image_path)\n",
        "  image = cv2.resize(image, (256, 256))\n",
        "  X_train.append(image)\n",
        "  y_train.append(1)"
      ],
      "metadata": {
        "id": "v-upxDH160a3"
      },
      "execution_count": null,
      "outputs": []
    },
    {
      "cell_type": "code",
      "source": [
        "for image_file in os.listdir(test_normal_path):\n",
        "  image_path = os.path.join(test_normal_path, image_file)\n",
        "  image = cv2.imread(image_path)\n",
        "  image = cv2.resize(image, (256, 256))\n",
        "  X_test.append(image)\n",
        "  y_test.append(0)"
      ],
      "metadata": {
        "id": "up2IXMPC62vf"
      },
      "execution_count": null,
      "outputs": []
    },
    {
      "cell_type": "code",
      "source": [
        "for image_file in os.listdir(test_pneumonia_path):\n",
        "  image_path = os.path.join(test_pneumonia_path, image_file)\n",
        "  image = cv2.imread(image_path)\n",
        "  image = cv2.resize(image, (256, 256))\n",
        "  X_test.append(image)\n",
        "  y_test.append(1)"
      ],
      "metadata": {
        "id": "fJnXF4ms67Iy"
      },
      "execution_count": null,
      "outputs": []
    },
    {
      "cell_type": "code",
      "source": [
        "# Convert lists to NumPy arrays\n",
        "X_train = np.array(X_train)\n",
        "y_train = np.array(y_train)\n",
        "X_test = np.array(X_test)\n",
        "y_test = np.array(y_test)"
      ],
      "metadata": {
        "id": "KH0PPIlbs1I5"
      },
      "execution_count": null,
      "outputs": []
    },
    {
      "cell_type": "code",
      "source": [
        "print(\"X_train shape:\", X_train.shape)\n",
        "print(\"y_train shape:\", y_train.shape)\n",
        "print(\"X_test shape:\", X_test.shape)\n",
        "print(\"y_test shape:\", y_test.shape)"
      ],
      "metadata": {
        "id": "GquMg_MN016G"
      },
      "execution_count": null,
      "outputs": []
    },
    {
      "cell_type": "code",
      "source": [
        "# Plot the first image from the dataset\n",
        "plt.imshow(X_train[0], cmap=plt.cm.Greys)"
      ],
      "metadata": {
        "id": "FnHDAVB9BwnB"
      },
      "execution_count": null,
      "outputs": []
    },
    {
      "cell_type": "markdown",
      "source": [
        "----- BUILDING THE MODEL -----\n"
      ],
      "metadata": {
        "id": "drl22NpYC8nK"
      }
    },
    {
      "cell_type": "code",
      "source": [
        "model = Sequential()\n",
        "model.add(Dense(100, activation='relu', input_shape=(256, 256, 1)))\n",
        "model.add(Dense(100, activation='relu'))\n",
        "model.add(Dense(2, activation='softmax'))\n",
        "model.summary()"
      ],
      "metadata": {
        "id": "r6n7Wnk6DEks"
      },
      "execution_count": null,
      "outputs": []
    },
    {
      "cell_type": "code",
      "source": [
        "model.compile(optimizer='adam',\n",
        "              loss='categorical_crossentropy',\n",
        "              metrics=['accuracy'])"
      ],
      "metadata": {
        "id": "3oLhkNpVC_65"
      },
      "execution_count": null,
      "outputs": []
    },
    {
      "cell_type": "code",
      "source": [
        "model.fit(\n",
        "    X_train,\n",
        "    y_train,\n",
        "    epochs=10,\n",
        "    shuffle=True,\n",
        "    verbose=2\n",
        ")"
      ],
      "metadata": {
        "id": "XU4n2CNtEzra"
      },
      "execution_count": null,
      "outputs": []
    },
    {
      "cell_type": "code",
      "source": [
        "model_loss, model_accuracy = model.evaluate(X_test, y_test, verbose=2)\n",
        "print(f\"Loss: {model_loss}, Accuracy: {model_accuracy}\")"
      ],
      "metadata": {
        "id": "4eG5pFrDE-_P"
      },
      "execution_count": null,
      "outputs": []
    },
    {
      "cell_type": "markdown",
      "source": [
        "------- TEST THE MODEL ---------"
      ],
      "metadata": {
        "id": "_s7itxKmFhc7"
      }
    },
    {
      "cell_type": "code",
      "source": [
        "test = np.expand_dims(X_train[0], axis=0)\n",
        "plt.imshow(scaler.inverse_transform(test).reshape(28, 28), cmap=plt.cm.Greys)\n",
        "model.predict(test).round()"
      ],
      "metadata": {
        "id": "9GqDO9BMFfbV"
      },
      "execution_count": null,
      "outputs": []
    }
  ]
}